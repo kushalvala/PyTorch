{
  "nbformat": 4,
  "nbformat_minor": 0,
  "metadata": {
    "colab": {
      "name": "PyTorch FunctionalAPI.ipynb",
      "provenance": [],
      "collapsed_sections": []
    },
    "kernelspec": {
      "name": "python3",
      "display_name": "Python 3"
    }
  },
  "cells": [
    {
      "cell_type": "code",
      "metadata": {
        "id": "0AusqDqyU0Te",
        "colab_type": "code",
        "colab": {}
      },
      "source": [
        "import torch\n",
        "from torch import nn\n",
        "import torch.nn.functional as F\n",
        "from torch import optim\n",
        "from torchvision import datasets,transforms"
      ],
      "execution_count": 1,
      "outputs": []
    },
    {
      "cell_type": "code",
      "metadata": {
        "id": "aRM6tkPyGhEC",
        "colab_type": "code",
        "colab": {}
      },
      "source": [
        "# Creating a transform function object to pre-process the incoming image-data\n",
        "\n",
        "transforms = transforms.Compose([transforms.ToTensor(),\n",
        "                                 transforms.Normalize( (0.5,),(0.5,) )])"
      ],
      "execution_count": 2,
      "outputs": []
    },
    {
      "cell_type": "code",
      "metadata": {
        "id": "i6w_QQkCGkwG",
        "colab_type": "code",
        "colab": {}
      },
      "source": [
        "# Setting the batch_size parameter to chunk our data\n",
        "\n",
        "batch_size = 64\n",
        "\n",
        "# Pulling data from torchvision and applying transformations\n",
        "\n",
        "trainset = datasets.FashionMNIST('~/.pytorch/F_MNIST_data/', download= True, train= True, transform= transforms)\n",
        "trainloader = torch.utils.data.DataLoader(dataset= trainset, batch_size= batch_size, shuffle= True)\n",
        "\n",
        "# Test Dataset\n",
        "\n",
        "testset = datasets.FashionMNIST('~/.pytorch/F_MNIST_data/', download= True, train= False, transform= transforms)\n",
        "testloader = torch.utils.data.DataLoader(dataset= testset, batch_size= batch_size, shuffle= True)"
      ],
      "execution_count": 3,
      "outputs": []
    },
    {
      "cell_type": "code",
      "metadata": {
        "id": "gfAVghnTGmfk",
        "colab_type": "code",
        "colab": {}
      },
      "source": [
        "class FashionNetwork(nn.Module):\n",
        "  def __init__(self):\n",
        "    super().__init__()\n",
        "    self.hidden1 = nn.Linear(784,256)\n",
        "    self.hidden2 = nn.Linear(256,128)\n",
        "    self.output = nn.Linear(128,10)\n",
        "\n",
        "  def forward(self,x):\n",
        "    x = F.relu(self.hidden1(x))\n",
        "    x = F.dropout(x, p= 0.25)\n",
        "    x = F.relu(self.hidden2(x))\n",
        "    x = F.dropout(x, p = 0.25)\n",
        "    output = F.log_softmax(self.output(x))\n",
        "\n",
        "    return output"
      ],
      "execution_count": 4,
      "outputs": []
    },
    {
      "cell_type": "code",
      "metadata": {
        "id": "oT1SxU21IOvm",
        "colab_type": "code",
        "colab": {
          "base_uri": "https://localhost:8080/",
          "height": 102
        },
        "outputId": "c40d5284-9f6d-4472-e4a0-644df98b5f1c"
      },
      "source": [
        "model = FashionNetwork()\n",
        "print(model)"
      ],
      "execution_count": 5,
      "outputs": [
        {
          "output_type": "stream",
          "text": [
            "FashionNetwork(\n",
            "  (hidden1): Linear(in_features=784, out_features=256, bias=True)\n",
            "  (hidden2): Linear(in_features=256, out_features=128, bias=True)\n",
            "  (output): Linear(in_features=128, out_features=10, bias=True)\n",
            ")\n"
          ],
          "name": "stdout"
        }
      ]
    },
    {
      "cell_type": "code",
      "metadata": {
        "id": "fVCJAtYaIVCT",
        "colab_type": "code",
        "colab": {
          "base_uri": "https://localhost:8080/",
          "height": 34
        },
        "outputId": "abb9e991-fd78-486c-df29-a4c3540b9f80"
      },
      "source": [
        "# Defining the loss function: negative log-likelihood loss\n",
        "\n",
        "criterion = nn.NLLLoss()\n",
        "\n",
        "# Defining an optimizer\n",
        "\n",
        "optimizer = optim.Adam(model.parameters(), lr= 1e-3)\n",
        "\n",
        "print(optimizer.defaults)"
      ],
      "execution_count": 6,
      "outputs": [
        {
          "output_type": "stream",
          "text": [
            "{'lr': 0.001, 'betas': (0.9, 0.999), 'eps': 1e-08, 'weight_decay': 0, 'amsgrad': False}\n"
          ],
          "name": "stdout"
        }
      ]
    },
    {
      "cell_type": "code",
      "metadata": {
        "id": "eZYGAbVyIlta",
        "colab_type": "code",
        "colab": {
          "base_uri": "https://localhost:8080/",
          "height": 241
        },
        "outputId": "625b03fb-41e5-492f-874d-5b8f51f3b0f7"
      },
      "source": [
        "# Writing the training loop\n",
        "\n",
        "epoch = 10\n",
        "\n",
        "for _ in range(epoch):\n",
        "  running_loss = 0\n",
        "  # Iterating through each image:\n",
        "  for image,label in trainloader:\n",
        "    # Initialising the gradients\n",
        "    optimizer.zero_grad()\n",
        "    # Reshaping the images\n",
        "    image = image.view(image.shape[0], -1)\n",
        "    # Forward Pass of Image\n",
        "    pred = model(image)\n",
        "    # Calculating the loss\n",
        "    loss = criterion(pred,label)\n",
        "    # Calling .backward function on loss\n",
        "    loss.backward()\n",
        "    optimizer.step()\n",
        "    running_loss += loss.item()\n",
        "  else:\n",
        "    print(f'Training loss: {running_loss/len(trainloader):.4f}')"
      ],
      "execution_count": 7,
      "outputs": [
        {
          "output_type": "stream",
          "text": [
            "/usr/local/lib/python3.6/dist-packages/ipykernel_launcher.py:13: UserWarning: Implicit dimension choice for log_softmax has been deprecated. Change the call to include dim=X as an argument.\n",
            "  del sys.path[0]\n"
          ],
          "name": "stderr"
        },
        {
          "output_type": "stream",
          "text": [
            "Training loss: 0.5538\n",
            "Training loss: 0.4208\n",
            "Training loss: 0.3864\n",
            "Training loss: 0.3663\n",
            "Training loss: 0.3507\n",
            "Training loss: 0.3354\n",
            "Training loss: 0.3234\n",
            "Training loss: 0.3166\n",
            "Training loss: 0.3095\n",
            "Training loss: 0.3014\n"
          ],
          "name": "stdout"
        }
      ]
    },
    {
      "cell_type": "code",
      "metadata": {
        "id": "0kATt_dqItdS",
        "colab_type": "code",
        "colab": {}
      },
      "source": [
        ""
      ],
      "execution_count": 7,
      "outputs": []
    }
  ]
}