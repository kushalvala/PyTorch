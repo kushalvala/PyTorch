{
  "nbformat": 4,
  "nbformat_minor": 0,
  "metadata": {
    "colab": {
      "name": "Pytorch-Tensors,AutoGrad.ipynb",
      "provenance": [],
      "collapsed_sections": []
    },
    "kernelspec": {
      "name": "python3",
      "display_name": "Python 3"
    }
  },
  "cells": [
    {
      "cell_type": "code",
      "metadata": {
        "id": "GuKSplCz6diG",
        "colab_type": "code",
        "colab": {}
      },
      "source": [
        "import torch\n",
        "import numpy as np"
      ],
      "execution_count": 1,
      "outputs": []
    },
    {
      "cell_type": "markdown",
      "metadata": {
        "id": "l9ykAxhZ89dz",
        "colab_type": "text"
      },
      "source": [
        "### Creating Tensor in PyTorch\n",
        "\n",
        "A scalar is a single independent value, a 1D array of values is called a vector, a 2D array of values is called a matrix, and any array of values that is more than 2D is simply called a tensor.\n",
        "\n"
      ]
    },
    {
      "cell_type": "code",
      "metadata": {
        "id": "efOFt91Z8rWF",
        "colab_type": "code",
        "colab": {
          "base_uri": "https://localhost:8080/",
          "height": 51
        },
        "outputId": "6dc77827-56f4-47fd-d2fd-c49656ec2b18"
      },
      "source": [
        "# Creating Tensors with ones\n",
        "\n",
        "torch.ones((2,2))"
      ],
      "execution_count": 2,
      "outputs": [
        {
          "output_type": "execute_result",
          "data": {
            "text/plain": [
              "tensor([[1., 1.],\n",
              "        [1., 1.]])"
            ]
          },
          "metadata": {
            "tags": []
          },
          "execution_count": 2
        }
      ]
    },
    {
      "cell_type": "code",
      "metadata": {
        "id": "lGXvP-3G9Psl",
        "colab_type": "code",
        "colab": {
          "base_uri": "https://localhost:8080/",
          "height": 51
        },
        "outputId": "ba4dc5f4-bb25-4087-f84b-ea65bbed26f7"
      },
      "source": [
        "# To create a tensor with dtype : int\n",
        "\n",
        "torch.ones((2,3), dtype= torch.int8)"
      ],
      "execution_count": 3,
      "outputs": [
        {
          "output_type": "execute_result",
          "data": {
            "text/plain": [
              "tensor([[1, 1, 1],\n",
              "        [1, 1, 1]], dtype=torch.int8)"
            ]
          },
          "metadata": {
            "tags": []
          },
          "execution_count": 3
        }
      ]
    },
    {
      "cell_type": "code",
      "metadata": {
        "id": "XBnJEm639yEA",
        "colab_type": "code",
        "colab": {
          "base_uri": "https://localhost:8080/",
          "height": 51
        },
        "outputId": "085f740a-c0b0-4ae4-a91f-1a60d4ac5ce8"
      },
      "source": [
        "# Creating Tensor with integer zeros\n",
        "\n",
        "torch.zeros((2,3), dtype= torch.int16)"
      ],
      "execution_count": 4,
      "outputs": [
        {
          "output_type": "execute_result",
          "data": {
            "text/plain": [
              "tensor([[0, 0, 0],\n",
              "        [0, 0, 0]], dtype=torch.int16)"
            ]
          },
          "metadata": {
            "tags": []
          },
          "execution_count": 4
        }
      ]
    },
    {
      "cell_type": "code",
      "metadata": {
        "id": "HdX4uiPh97Xu",
        "colab_type": "code",
        "colab": {
          "base_uri": "https://localhost:8080/",
          "height": 51
        },
        "outputId": "69aed2b9-2f22-4fad-919b-74e8dd2fcf3b"
      },
      "source": [
        "# Creating tensor with specific value\n",
        "\n",
        "torch.full((2,2), 3.5)"
      ],
      "execution_count": 5,
      "outputs": [
        {
          "output_type": "execute_result",
          "data": {
            "text/plain": [
              "tensor([[3.5000, 3.5000],\n",
              "        [3.5000, 3.5000]])"
            ]
          },
          "metadata": {
            "tags": []
          },
          "execution_count": 5
        }
      ]
    },
    {
      "cell_type": "code",
      "metadata": {
        "id": "A46aGFlYDZ6k",
        "colab_type": "code",
        "colab": {
          "base_uri": "https://localhost:8080/",
          "height": 68
        },
        "outputId": "02d19a00-07c7-45e4-a2fd-e80405063d2a"
      },
      "source": [
        "# Creating an empty tensor\n",
        "\n",
        "torch.empty((3,3))"
      ],
      "execution_count": 6,
      "outputs": [
        {
          "output_type": "execute_result",
          "data": {
            "text/plain": [
              "tensor([[8.5737e-36, 0.0000e+00, 3.3631e-44],\n",
              "        [0.0000e+00,        nan, 0.0000e+00],\n",
              "        [1.1578e+27, 1.1362e+30, 7.1547e+22]])"
            ]
          },
          "metadata": {
            "tags": []
          },
          "execution_count": 6
        }
      ]
    },
    {
      "cell_type": "code",
      "metadata": {
        "id": "Zh6VJv2zDqj5",
        "colab_type": "code",
        "colab": {
          "base_uri": "https://localhost:8080/",
          "height": 51
        },
        "outputId": "e6ba0ac2-7d90-4d1f-9d1d-3be674263de7"
      },
      "source": [
        "# Creating a tensor from uniform distribution : [0,1]\n",
        "\n",
        "torch.rand((2,2))"
      ],
      "execution_count": 7,
      "outputs": [
        {
          "output_type": "execute_result",
          "data": {
            "text/plain": [
              "tensor([[0.6092, 0.8598],\n",
              "        [0.5550, 0.3786]])"
            ]
          },
          "metadata": {
            "tags": []
          },
          "execution_count": 7
        }
      ]
    },
    {
      "cell_type": "code",
      "metadata": {
        "id": "kbY0rTMXD1kI",
        "colab_type": "code",
        "colab": {
          "base_uri": "https://localhost:8080/",
          "height": 51
        },
        "outputId": "6c9bab93-242d-4264-e7d9-2fa0559b48b5"
      },
      "source": [
        "# Creating tensor with standard normal distribution (mean:0, variance:1)\n",
        "\n",
        "torch.randn((2,2))"
      ],
      "execution_count": 8,
      "outputs": [
        {
          "output_type": "execute_result",
          "data": {
            "text/plain": [
              "tensor([[ 2.8530,  0.2535],\n",
              "        [-1.2039, -0.3790]])"
            ]
          },
          "metadata": {
            "tags": []
          },
          "execution_count": 8
        }
      ]
    },
    {
      "cell_type": "code",
      "metadata": {
        "id": "rkJs0PjjECxG",
        "colab_type": "code",
        "colab": {
          "base_uri": "https://localhost:8080/",
          "height": 51
        },
        "outputId": "b8d1ba8b-eb0b-4301-c0f4-5901cf536a8e"
      },
      "source": [
        "# Using Integer values : lower and upper limit\n",
        "\n",
        "torch.randint(low = 10, high = 20, size = (2,2))"
      ],
      "execution_count": 9,
      "outputs": [
        {
          "output_type": "execute_result",
          "data": {
            "text/plain": [
              "tensor([[12, 11],\n",
              "        [14, 10]])"
            ]
          },
          "metadata": {
            "tags": []
          },
          "execution_count": 9
        }
      ]
    },
    {
      "cell_type": "code",
      "metadata": {
        "id": "5GFjRhPoEmwZ",
        "colab_type": "code",
        "colab": {
          "base_uri": "https://localhost:8080/",
          "height": 51
        },
        "outputId": "576ddf3d-bea6-4d40-8dd4-2d270e4a81c2"
      },
      "source": [
        "# Creating Tensor from existing data\n",
        "\n",
        "x = torch.tensor([[1,2,3],[4,5,6]])\n",
        "x"
      ],
      "execution_count": 10,
      "outputs": [
        {
          "output_type": "execute_result",
          "data": {
            "text/plain": [
              "tensor([[1, 2, 3],\n",
              "        [4, 5, 6]])"
            ]
          },
          "metadata": {
            "tags": []
          },
          "execution_count": 10
        }
      ]
    },
    {
      "cell_type": "code",
      "metadata": {
        "id": "dKPoWgSiFua3",
        "colab_type": "code",
        "colab": {
          "base_uri": "https://localhost:8080/",
          "height": 51
        },
        "outputId": "e613c624-63a5-45c2-a52b-e5a5420b53fb"
      },
      "source": [
        "print('The datatype of tensor: ', x.dtype)\n",
        "print('Size of Tensor:', x.shape)\n"
      ],
      "execution_count": 11,
      "outputs": [
        {
          "output_type": "stream",
          "text": [
            "The datatype of tensor:  torch.int64\n",
            "Size of Tensor: torch.Size([2, 3])\n"
          ],
          "name": "stdout"
        }
      ]
    },
    {
      "cell_type": "code",
      "metadata": {
        "id": "eacJbwBDF4Yd",
        "colab_type": "code",
        "colab": {
          "base_uri": "https://localhost:8080/",
          "height": 51
        },
        "outputId": "de00297b-bc11-4769-f965-e2e27405ac5c"
      },
      "source": [
        "# Lets create a tensor, y which has similar attributes to x\n",
        "\n",
        "y = torch.ones_like(x)\n",
        "y"
      ],
      "execution_count": 12,
      "outputs": [
        {
          "output_type": "execute_result",
          "data": {
            "text/plain": [
              "tensor([[1, 1, 1],\n",
              "        [1, 1, 1]])"
            ]
          },
          "metadata": {
            "tags": []
          },
          "execution_count": 12
        }
      ]
    },
    {
      "cell_type": "markdown",
      "metadata": {
        "id": "slHU21csHWYJ",
        "colab_type": "text"
      },
      "source": [
        "### Exploring the NumPy Bridge"
      ]
    },
    {
      "cell_type": "code",
      "metadata": {
        "id": "06XJ7AAeHExb",
        "colab_type": "code",
        "colab": {
          "base_uri": "https://localhost:8080/",
          "height": 51
        },
        "outputId": "16c1e4d6-ec9c-472f-818e-081911b86554"
      },
      "source": [
        "a = np.ones((2,3))\n",
        "a"
      ],
      "execution_count": 13,
      "outputs": [
        {
          "output_type": "execute_result",
          "data": {
            "text/plain": [
              "array([[1., 1., 1.],\n",
              "       [1., 1., 1.]])"
            ]
          },
          "metadata": {
            "tags": []
          },
          "execution_count": 13
        }
      ]
    },
    {
      "cell_type": "code",
      "metadata": {
        "id": "wWF17gLgZmbf",
        "colab_type": "code",
        "colab": {
          "base_uri": "https://localhost:8080/",
          "height": 51
        },
        "outputId": "894a4217-23e6-4bc0-b466-91af6b946ed9"
      },
      "source": [
        "# Converting it to PyTorch Tensor\n",
        "\n",
        "b = torch.from_numpy(a)\n",
        "b"
      ],
      "execution_count": 14,
      "outputs": [
        {
          "output_type": "execute_result",
          "data": {
            "text/plain": [
              "tensor([[1., 1., 1.],\n",
              "        [1., 1., 1.]], dtype=torch.float64)"
            ]
          },
          "metadata": {
            "tags": []
          },
          "execution_count": 14
        }
      ]
    },
    {
      "cell_type": "code",
      "metadata": {
        "id": "UUr6q7jKZyQk",
        "colab_type": "code",
        "colab": {
          "base_uri": "https://localhost:8080/",
          "height": 51
        },
        "outputId": "18f4043e-bf2e-4b28-a8a9-11cfdba40b21"
      },
      "source": [
        "b.numpy()"
      ],
      "execution_count": 15,
      "outputs": [
        {
          "output_type": "execute_result",
          "data": {
            "text/plain": [
              "array([[1., 1., 1.],\n",
              "       [1., 1., 1.]])"
            ]
          },
          "metadata": {
            "tags": []
          },
          "execution_count": 15
        }
      ]
    },
    {
      "cell_type": "markdown",
      "metadata": {
        "id": "8vRyJRuAaBgb",
        "colab_type": "text"
      },
      "source": [
        "### Exploring Gradients"
      ]
    },
    {
      "cell_type": "code",
      "metadata": {
        "id": "nM7BlnpGaGrB",
        "colab_type": "code",
        "colab": {
          "base_uri": "https://localhost:8080/",
          "height": 88
        },
        "outputId": "ca7109b1-9d2c-44be-83a3-2635514cee6d"
      },
      "source": [
        "# Unlike tensors made so far, we will add a key, to tell PyTorch it needs to perform gradient differentiation\n",
        "\n",
        "x = torch.full((2,3), 4, requires_grad= True)\n",
        "x"
      ],
      "execution_count": 16,
      "outputs": [
        {
          "output_type": "stream",
          "text": [
            "/pytorch/aten/src/ATen/native/TensorFactories.cpp:361: UserWarning: Deprecation warning: In a future PyTorch release torch.full will no longer return tensors of floating dtype by default. Instead, a bool fill_value will return a tensor of torch.bool dtype, and an integral fill_value will return a tensor of torch.long dtype. Set the optional `dtype` or `out` arguments to suppress this warning.\n"
          ],
          "name": "stderr"
        },
        {
          "output_type": "execute_result",
          "data": {
            "text/plain": [
              "tensor([[4., 4., 4.],\n",
              "        [4., 4., 4.]], requires_grad=True)"
            ]
          },
          "metadata": {
            "tags": []
          },
          "execution_count": 16
        }
      ]
    },
    {
      "cell_type": "code",
      "metadata": {
        "id": "JM43bLCEx6iA",
        "colab_type": "code",
        "colab": {
          "base_uri": "https://localhost:8080/",
          "height": 51
        },
        "outputId": "baad04d5-2195-4849-8631-ba74fc32d68e"
      },
      "source": [
        "# defining slightly more complex function\n",
        "\n",
        "y = (2 * x**2) + 3 \n",
        "y"
      ],
      "execution_count": 17,
      "outputs": [
        {
          "output_type": "execute_result",
          "data": {
            "text/plain": [
              "tensor([[35., 35., 35.],\n",
              "        [35., 35., 35.]], grad_fn=<AddBackward0>)"
            ]
          },
          "metadata": {
            "tags": []
          },
          "execution_count": 17
        }
      ]
    },
    {
      "cell_type": "code",
      "metadata": {
        "id": "Depi8FDsyLJM",
        "colab_type": "code",
        "colab": {}
      },
      "source": [
        "y.backward(torch.ones_like(x))"
      ],
      "execution_count": 18,
      "outputs": []
    },
    {
      "cell_type": "code",
      "metadata": {
        "id": "VigpeBMOyy7g",
        "colab_type": "code",
        "colab": {
          "base_uri": "https://localhost:8080/",
          "height": 51
        },
        "outputId": "77bbe53a-a45e-4337-93f9-5fffc2ffb995"
      },
      "source": [
        "x.grad"
      ],
      "execution_count": 19,
      "outputs": [
        {
          "output_type": "execute_result",
          "data": {
            "text/plain": [
              "tensor([[16., 16., 16.],\n",
              "        [16., 16., 16.]])"
            ]
          },
          "metadata": {
            "tags": []
          },
          "execution_count": 19
        }
      ]
    },
    {
      "cell_type": "code",
      "metadata": {
        "id": "XmgLrFPIzbI9",
        "colab_type": "code",
        "colab": {
          "base_uri": "https://localhost:8080/",
          "height": 34
        },
        "outputId": "df4935f2-69b1-4dbc-defc-e730cd9f1531"
      },
      "source": [
        "# Turning off the gradient requirement\n",
        "\n",
        "x.requires_grad"
      ],
      "execution_count": 20,
      "outputs": [
        {
          "output_type": "execute_result",
          "data": {
            "text/plain": [
              "True"
            ]
          },
          "metadata": {
            "tags": []
          },
          "execution_count": 20
        }
      ]
    },
    {
      "cell_type": "code",
      "metadata": {
        "id": "coC2bSbnzmwr",
        "colab_type": "code",
        "colab": {
          "base_uri": "https://localhost:8080/",
          "height": 51
        },
        "outputId": "d2bb660d-33ea-42c5-d0c6-6aa61e3eeea2"
      },
      "source": [
        "x.requires_grad_(False)"
      ],
      "execution_count": 21,
      "outputs": [
        {
          "output_type": "execute_result",
          "data": {
            "text/plain": [
              "tensor([[4., 4., 4.],\n",
              "        [4., 4., 4.]])"
            ]
          },
          "metadata": {
            "tags": []
          },
          "execution_count": 21
        }
      ]
    },
    {
      "cell_type": "markdown",
      "metadata": {
        "id": "f24APE-X0HR_",
        "colab_type": "text"
      },
      "source": [
        "### Viewing Tensors in PyTorch"
      ]
    },
    {
      "cell_type": "markdown",
      "metadata": {
        "id": "l5T7mqZl0ONv",
        "colab_type": "text"
      },
      "source": [
        "While working with tensors and dealing with neural networks, we often need to go through and rearrange data in the tensors so that the dimensions of the tensors fit the needs of the architecture"
      ]
    },
    {
      "cell_type": "code",
      "metadata": {
        "id": "A7bKlZnfzrri",
        "colab_type": "code",
        "colab": {
          "base_uri": "https://localhost:8080/",
          "height": 119
        },
        "outputId": "1625e777-69f5-4848-ca60-ef2b667cc2e8"
      },
      "source": [
        "x = torch.Tensor([1,2,3,4])\n",
        "print(x)\n",
        "print(torch.reshape(x, (2,2)))\n",
        "\n",
        "# Looking into resize method:\n",
        "y = torch.Tensor([1,2,3,4,5,6])\n",
        "print(y.shape)\n",
        "y.resize_((2,2))"
      ],
      "execution_count": 22,
      "outputs": [
        {
          "output_type": "stream",
          "text": [
            "tensor([1., 2., 3., 4.])\n",
            "tensor([[1., 2.],\n",
            "        [3., 4.]])\n",
            "torch.Size([6])\n"
          ],
          "name": "stdout"
        },
        {
          "output_type": "execute_result",
          "data": {
            "text/plain": [
              "tensor([[1., 2.],\n",
              "        [3., 4.]])"
            ]
          },
          "metadata": {
            "tags": []
          },
          "execution_count": 22
        }
      ]
    },
    {
      "cell_type": "markdown",
      "metadata": {
        "id": "3eaOOpZ71ase",
        "colab_type": "text"
      },
      "source": [
        "With the view() method, you can choose not to mention one of the dimensions and arrange the rest of them, and PyTorch will calculate the missing dimension "
      ]
    },
    {
      "cell_type": "code",
      "metadata": {
        "id": "U1EF08GB0lXx",
        "colab_type": "code",
        "colab": {
          "base_uri": "https://localhost:8080/",
          "height": 68
        },
        "outputId": "febc100c-1108-49ca-e19b-3af1828f34f9"
      },
      "source": [
        "# most common method is .view()\n",
        "\n",
        "a = torch.Tensor([1,2,3,4,5,6])\n",
        "\n",
        "a.view((3,-1))"
      ],
      "execution_count": 23,
      "outputs": [
        {
          "output_type": "execute_result",
          "data": {
            "text/plain": [
              "tensor([[1., 2.],\n",
              "        [3., 4.],\n",
              "        [5., 6.]])"
            ]
          },
          "metadata": {
            "tags": []
          },
          "execution_count": 23
        }
      ]
    },
    {
      "cell_type": "markdown",
      "metadata": {
        "id": "2b5oh5T22tad",
        "colab_type": "text"
      },
      "source": [
        "You can use the dimension of another tensor and make a given tensor resemble the dimension of that tensor without affecting the actual dimensions of either of them."
      ]
    },
    {
      "cell_type": "code",
      "metadata": {
        "id": "F9XzGgGi2szP",
        "colab_type": "code",
        "colab": {
          "base_uri": "https://localhost:8080/",
          "height": 85
        },
        "outputId": "80f8e0cc-57b9-4e3c-8dfd-dcb98a349f67"
      },
      "source": [
        "a = torch.Tensor([[1,2,3],[4,5,6]])\n",
        "print(a.shape)\n",
        "\n",
        "b = torch.Tensor([1,2,3,4,5,6])\n",
        "print(b.shape)\n",
        "\n",
        "b.view_as(a)"
      ],
      "execution_count": 24,
      "outputs": [
        {
          "output_type": "stream",
          "text": [
            "torch.Size([2, 3])\n",
            "torch.Size([6])\n"
          ],
          "name": "stdout"
        },
        {
          "output_type": "execute_result",
          "data": {
            "text/plain": [
              "tensor([[1., 2., 3.],\n",
              "        [4., 5., 6.]])"
            ]
          },
          "metadata": {
            "tags": []
          },
          "execution_count": 24
        }
      ]
    }
  ]
}