{
  "nbformat": 4,
  "nbformat_minor": 0,
  "metadata": {
    "colab": {
      "name": "PyTorch-NLP-02.ipynb",
      "provenance": [],
      "collapsed_sections": [
        "mvJc5bAVuhk5",
        "TkYw9JiIukOZ"
      ]
    },
    "kernelspec": {
      "name": "python3",
      "display_name": "Python 3"
    }
  },
  "cells": [
    {
      "cell_type": "markdown",
      "metadata": {
        "id": "mvJc5bAVuhk5",
        "colab_type": "text"
      },
      "source": [
        "### Review of Basics"
      ]
    },
    {
      "cell_type": "code",
      "metadata": {
        "id": "EmCpv7IHsZRc",
        "colab_type": "code",
        "colab": {}
      },
      "source": [
        "# Using lambda function to create a tokenizer\n",
        "\n",
        "tokenizer = lambda x : x.split()"
      ],
      "execution_count": 1,
      "outputs": []
    },
    {
      "cell_type": "code",
      "metadata": {
        "id": "TAOY1EiGsxw0",
        "colab_type": "code",
        "colab": {
          "base_uri": "https://localhost:8080/",
          "height": 578
        },
        "outputId": "a54e1996-f6dc-455c-9eb0-fec5510a7c91"
      },
      "source": [
        "!wget https://github.com/jibinmathew69/PyTorch1.x-Tutorial/blob/master/NewsClassification/test.csv\n",
        "!wget https://github.com/jibinmathew69/PyTorch1.x-Tutorial/blob/master/NewsClassification/train.csv\n",
        "!wget https://github.com/jibinmathew69/PyTorch1.x-Tutorial/blob/master/NewsClassification/valid.csv"
      ],
      "execution_count": 3,
      "outputs": [
        {
          "output_type": "stream",
          "text": [
            "--2020-07-03 17:27:45--  https://github.com/jibinmathew69/PyTorch1.x-Tutorial/blob/master/NewsClassification/test.csv\n",
            "Resolving github.com (github.com)... 140.82.112.3\n",
            "Connecting to github.com (github.com)|140.82.112.3|:443... connected.\n",
            "HTTP request sent, awaiting response... 200 OK\n",
            "Length: unspecified [text/html]\n",
            "Saving to: ‘test.csv’\n",
            "\n",
            "test.csv                [    <=>             ]   1.01M   987KB/s    in 1.1s    \n",
            "\n",
            "2020-07-03 17:27:47 (987 KB/s) - ‘test.csv’ saved [1063021]\n",
            "\n",
            "--2020-07-03 17:27:49--  https://github.com/jibinmathew69/PyTorch1.x-Tutorial/blob/master/NewsClassification/train.csv\n",
            "Resolving github.com (github.com)... 140.82.112.3\n",
            "Connecting to github.com (github.com)|140.82.112.3|:443... connected.\n",
            "HTTP request sent, awaiting response... 200 OK\n",
            "Length: unspecified [text/html]\n",
            "Saving to: ‘train.csv’\n",
            "\n",
            "train.csv               [  <=>               ]  72.97K   200KB/s    in 0.4s    \n",
            "\n",
            "2020-07-03 17:27:51 (200 KB/s) - ‘train.csv’ saved [74718]\n",
            "\n",
            "--2020-07-03 17:27:52--  https://github.com/jibinmathew69/PyTorch1.x-Tutorial/blob/master/NewsClassification/valid.csv\n",
            "Resolving github.com (github.com)... 140.82.112.3\n",
            "Connecting to github.com (github.com)|140.82.112.3|:443... connected.\n",
            "HTTP request sent, awaiting response... 200 OK\n",
            "Length: unspecified [text/html]\n",
            "Saving to: ‘valid.csv’\n",
            "\n",
            "valid.csv               [   <=>              ] 672.61K   751KB/s    in 0.9s    \n",
            "\n",
            "2020-07-03 17:27:54 (751 KB/s) - ‘valid.csv’ saved [688752]\n",
            "\n"
          ],
          "name": "stdout"
        }
      ]
    },
    {
      "cell_type": "code",
      "metadata": {
        "id": "KZcCKNM3uIY0",
        "colab_type": "code",
        "colab": {}
      },
      "source": [
        "mkdir NewsClassificaiton"
      ],
      "execution_count": 4,
      "outputs": []
    },
    {
      "cell_type": "code",
      "metadata": {
        "id": "Ls_FdiH9sja3",
        "colab_type": "code",
        "colab": {}
      },
      "source": [
        "from torchtext.data import Field\n",
        "\n",
        "# Fields for Reviews\n",
        "Review = Field(sequential= True, tokenize= tokenizer , lower= True)\n",
        "\n",
        "# Fields for Labels\n",
        "Label = Field(sequential= False, use_vocab= False)\n",
        "\n",
        "# Adding token at end and starting of the input string\n",
        "\n",
        "SequenceField = Field(tokenize= tokenizer, init_token= '<sos>', eos_token= '<sos>', lower= True)\n",
        "\n",
        "# Setting a field with a fix length\n",
        "\n",
        "SequenceField = Field(tokenize= tokenizer, init_token= '<sos>', eos_token= '<sos>', lower= True, fix_length= 50)\n",
        "\n",
        "# Setting an unknown token\n",
        "\n",
        "SequenceField = Field(tokenize= tokenizer, init_token= '<sos>', eos_token= '<sos>', lower= True, unk_token= '<unk>')"
      ],
      "execution_count": 5,
      "outputs": []
    },
    {
      "cell_type": "code",
      "metadata": {
        "id": "Nhvx6ZC7sj8h",
        "colab_type": "code",
        "colab": {}
      },
      "source": [
        "from torchtext.data import TabularDataset\n",
        "\n",
        "# Selecting the training columns\n",
        "train_datafields = [(\"id\", None), (\"content\", Review), (\"Business\", Label), (\"SciTech\", Label), (\"Sports\", Label), (\"World\", Label)]\n",
        "\n",
        "# Selecting the testing columns\n",
        "test_datafields = [('id',None), ('content',Review)]\n",
        "\n",
        "# Reading the training and validation file\n",
        "train, valid = TabularDataset.splits(path= '/content/NewsClassificaiton' ,train='train.csv', validation='valid.csv', format='csv', skip_header=True, fields=train_datafields)\n",
        "\n",
        "# Reading the test file\n",
        "\n",
        "test = TabularDataset(path= '/content/NewsClassificaiton/test.csv', format = 'csv', skip_header= True, fields= test_datafields)"
      ],
      "execution_count": 6,
      "outputs": []
    },
    {
      "cell_type": "code",
      "metadata": {
        "id": "U4BrcH6FuWGh",
        "colab_type": "code",
        "colab": {}
      },
      "source": [
        "# Building the vocabulary\n",
        "Review = Field(sequential= True, tokenize= tokenizer , lower= True)\n",
        "\n",
        "Review.build_vocab(train, min_freq=2)"
      ],
      "execution_count": 7,
      "outputs": []
    },
    {
      "cell_type": "markdown",
      "metadata": {
        "id": "TkYw9JiIukOZ",
        "colab_type": "text"
      },
      "source": [
        "### Word Embeddings\n",
        "\n",
        "Word embeddings are learned representations of words. They are dense representations of words, where each word is assigned a vector, that is, a real-valued vector in a pre-defined vector space."
      ]
    },
    {
      "cell_type": "code",
      "metadata": {
        "id": "z5rgZJR9uYsC",
        "colab_type": "code",
        "colab": {
          "base_uri": "https://localhost:8080/",
          "height": 51
        },
        "outputId": "128dfa31-e60b-4e6b-b154-81b662dec6f9"
      },
      "source": [
        "from torchtext import vocab\n",
        "\n",
        "# loading vector embeddings\n",
        "\n",
        "vec = vocab.Vectors('glove.6B.100d.txt', cache='./vec/glove_embedding/', url='http://nlp.stanford.edu/data/glove.6B.zip')"
      ],
      "execution_count": 9,
      "outputs": [
        {
          "output_type": "stream",
          "text": [
            "./vec/glove_embedding/glove.6B.zip: 862MB [06:30, 2.21MB/s]                           \n",
            "100%|█████████▉| 398113/400000 [00:18<00:00, 22447.38it/s]"
          ],
          "name": "stderr"
        }
      ]
    },
    {
      "cell_type": "code",
      "metadata": {
        "id": "ps2czTGavPAp",
        "colab_type": "code",
        "colab": {}
      },
      "source": [
        "Review.build_vocab(train, min_freq = 2, vectors = vec)"
      ],
      "execution_count": 10,
      "outputs": []
    },
    {
      "cell_type": "markdown",
      "metadata": {
        "id": "-h124X8qxZde",
        "colab_type": "text"
      },
      "source": [
        "TorchText has a vocab module that deals with embeddings. We can download pretrained embeddings by mentioning the name of the embedding that we need in this recipe.   \n",
        "We then built the vocabulary from those pretrained embeddings, which added to the vocabulary of our training data, using the build_vocab method of the Review field object.  "
      ]
    },
    {
      "cell_type": "markdown",
      "metadata": {
        "id": "YMdOaTekxkkN",
        "colab_type": "text"
      },
      "source": [
        "### Building LSTM Network\n",
        "\n",
        "Long short-term memory (LSTM) networks are a type of recurrent neural network that has internal gates that helps in better information persistence. "
      ]
    },
    {
      "cell_type": "code",
      "metadata": {
        "id": "IFV1bkkcxUcm",
        "colab_type": "code",
        "colab": {}
      },
      "source": [
        "import torch.nn as nn"
      ],
      "execution_count": 11,
      "outputs": []
    },
    {
      "cell_type": "code",
      "metadata": {
        "id": "wNLW4gO4x5nI",
        "colab_type": "code",
        "colab": {}
      },
      "source": [
        "class LSTMClassifier(nn.Module):\n",
        "  def __init__(self, embedding_dim, hidden_dim, output_dim, dropout):\n",
        "    super().__init__()\n",
        "    self.embedding = nn.Embedding(len(Review.vocab),embedding_dim= embedding_dim)\n",
        "    self.lstm = nn.LSTM(embedding_dim,hidden_dim)\n",
        "    self.fc = nn.Linear(hidden_dim,output_dim)\n",
        "    self.dropout = nn.Dropout(dropout)\n",
        "  \n",
        "  def forward(self, x):\n",
        "    x = self.embedding(x)\n",
        "    output , (hidden,cell) = self.lstm(x)\n",
        "    hidden = self.dropout(hidden)\n",
        "    return self.fc(hidden)"
      ],
      "execution_count": 17,
      "outputs": []
    },
    {
      "cell_type": "code",
      "metadata": {
        "id": "uvEvi4PmzQwh",
        "colab_type": "code",
        "colab": {}
      },
      "source": [
        "# Setting the hyperparameters:\n",
        "\n",
        "EMBEDDING_DIM = 100\n",
        "HIDDEN_DIM = 256\n",
        "OUTPUT_DIM = 1\n",
        "DROPOUT = 0.2\n",
        "\n",
        "model = LSTMClassifier(EMBEDDING_DIM, HIDDEN_DIM, OUTPUT_DIM, DROPOUT)"
      ],
      "execution_count": 18,
      "outputs": []
    },
    {
      "cell_type": "code",
      "metadata": {
        "id": "UKwpdIZOzkZu",
        "colab_type": "code",
        "colab": {
          "base_uri": "https://localhost:8080/",
          "height": 119
        },
        "outputId": "29dc0875-b8ce-4288-ce33-ecc80e0d4a5c"
      },
      "source": [
        "print(model)"
      ],
      "execution_count": 19,
      "outputs": [
        {
          "output_type": "stream",
          "text": [
            "LSTMClassifier(\n",
            "  (embedding): Embedding(2, 100)\n",
            "  (lstm): LSTM(100, 256)\n",
            "  (fc): Linear(in_features=256, out_features=1, bias=True)\n",
            "  (dropout): Dropout(p=0.2, inplace=False)\n",
            ")\n"
          ],
          "name": "stdout"
        }
      ]
    }
  ]
}